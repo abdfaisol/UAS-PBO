{
 "cells": [
  {
   "cell_type": "markdown",
   "metadata": {},
   "source": [
    "#### Nama Anggota :\n",
    "1. Abdullah Faisol       (180441100055)\n",
    "2. Yogi Dwy Al Qurniawan (180441100059)"
   ]
  },
  {
   "cell_type": "markdown",
   "metadata": {},
   "source": [
    "## Laporan Project Pygame dan Kivy"
   ]
  },
  {
   "cell_type": "markdown",
   "metadata": {},
   "source": [
    "### Dokumentasi Pygame"
   ]
  },
  {
   "cell_type": "markdown",
   "metadata": {},
   "source": [
    "Pygame adalah seperangkat modul Python yang dirancang untuk membuat permainan. Pygame menambahkan fungsi di atas dengan sangat baik di SDL perpustakaan. Hal ini memungkinkan Anda untuk membuat sebuah game dengan fitur yang lengkap dan sebuah program multimedia dalam bahasa python. Pygame sangat portabel dan dapat berjalan pada hampir semua platform dan sistem operasi. Pygame sendiri telah didownload jutaan kali, dan telah memiliki jutaan kunjungan ke situsnya.\n",
   ]
  },
  {
   "cell_type": "markdown",
   "metadata": {},
   "source": [
    "### Cara Install Pygame"
   ]
  },
  {
   "cell_type": "markdown",
   "metadata": {},
   "source": [
    "#### 1.  Cek versi python"
   ]
  },
  {
   "cell_type": "markdown",
   "metadata": {},
   "source": [
    "langkah yang pertama ini,harus mengetahui terlebih dahulu versi python yang terinstall di PC. Bisa dengan cara membuka IDLE python nya seperti pada gambar no 1 di bawah ini. Atau bisa juga di C:/pythonxx/python.exe seperti pada gambar no 2 di bawah ini. Maka akan muncul seperti pada gambar no 3."
   ]
  },
  {
   "cell_type": "markdown",
   "metadata": {},
   "source": [
    "<img src=\"https://2.bp.blogspot.com/-H7d5xk7DqjE/WNHkLkN0fwI/AAAAAAAAASc/TstCqeWMvJ8rpPeZUGZSiy8Nlks3Li1WACK4B/s640/1.png\">"
   ]
  },
  {
   "cell_type": "markdown",
   "metadata": {},
   "source": [
    "#### 2. Medownload atau mengunduh file instalasi pygame."
   ]
  },
  {
   "cell_type": "markdown",
   "metadata": {},
   "source": [
    "Setelah itu buka browser dan pergi ke pygame.org/download.shtml .Lanjut, klik link seperti Pada gambar bawah ini. Atau lebih mudahnya,klik link ini http://www.lfd.uci.edu~gohlke/pythonlibs/#pygame"
   ]
  },
  {
   "cell_type": "markdown",
   "metadata": {},
   "source": [
    "<img src=\"https://3.bp.blogspot.com/-M-QOByuFc1I/WNHklFtHYwI/AAAAAAAAASs/aCHU1hNIyr8U28bMwxO_cfiDiJmrISBWACK4B/s640/2.png\">"
   ]
  },
  {
   "cell_type": "markdown",
   "metadata": {},
   "source": [
    "Kemudian pilih file library pygame sesuai versi python yang sudah di cek tadi pada langkah perta. Untuk memudahkan pemilihan versinya,bisa lihat gambar di bawah ini."
   ]
  },
  {
   "cell_type": "markdown",
   "metadata": {},
   "source": [
    "<img src=\"https://2.bp.blogspot.com/-65Z4lwY2GnQ/WNHlGAra2BI/AAAAAAAAAS0/ej1FdWdEZH4_vzeJjTlAkBH8sP2Nv9v6gCK4B/s640/3.png\">"
   ]
  },
  {
   "cell_type": "markdown",
   "metadata": {},
   "source": [
    "#### 3. extract file hasil download"
   ]
  },
  {
   "cell_type": "markdown",
   "metadata": {},
   "source": [
    "Setelah itu, silahkan cari file instalasi pygame hasil download nya tadi.ubah extensi “.whl” menjadi “.zip”. caranya bisa lihat pada gambar di bawah ini."
   ]
  },
  {
   "cell_type": "markdown",
   "metadata": {},
   "source": [
    "<img src=\"https://2.bp.blogspot.com/-XObsF0X7Ls4/WNHlYguor5I/AAAAAAAAATA/sTIfoFjkuXo8IvotkQqVSX49hQMhllL5gCK4B/s640/4.png\">"
   ]
  },
  {
   "cell_type": "markdown",
   "metadata": {},
   "source": [
    "Setelah itu extract seperti biasa,dengan cara klik kanan, lalu pilih “extract”. Sekarang buka folder “pygame-1.9.2.data” hasil dari ‘extract’ tadi. Lalu buka forder “Headers”. Setelah itu select semuanya. Atau tekan “ctrl+a” setelah itu klik kanan pada mouse lalu pilih “copy”. Untuk memudahkan step ini, kalian bisa lihat gambar di bawah ini agar lebih mudah."
   ]
  },
  {
   "cell_type": "markdown",
   "metadata": {},
   "source": [
    "<img src=\"https://1.bp.blogspot.com/-ZNJ6sZ1dwwA/WNHmNbVEF7I/AAAAAAAAATQ/bLAe6u4Dtxw1tOKaTa2N9HD9CENNUSQggCK4B/s640/5.png\">"
   ]
  },
  {
   "cell_type": "markdown",
   "metadata": {},
   "source": [
    "#### 4. Paste file yang sudah di copy"
   ]
  },
  {
   "cell_type": "markdown",
   "metadata": {},
   "source": [
    "salin file – file nya, Lalu selanjutnya pergi ke drive “C”. lalu pilih folder python sesuai versi nya. Contoh “pythonXX” huruf XX ini menandakan versi python nya. Contoh “python34”. Silahkan masuk ke folder “pythonxx” nya.. lalu masuk ke folder “include”. Nah di folder ini buat folder baru dengan nama “pygame”. Lalu paste file yang sudah di copy tadi kedalam folder “pygame” ini.untuk memudahkan langkah ini,gambar yang ada di bawah ini."
   ]
  },
  {
   "cell_type": "markdown",
   "metadata": {},
   "source": [
    "<img src=\"https://3.bp.blogspot.com/-12zEeLMbqAE/WNHmavRV6BI/AAAAAAAAATY/9NHXtlw7s98ce0sYshAktMCCcXfTN4M7wCK4B/s640/6.png\">"
   ]
  },
  {
   "cell_type": "markdown",
   "metadata": {},
   "source": [
    "#### 5. copy paste folder pygame "
   ]
  },
  {
   "cell_type": "markdown",
   "metadata": {},
   "source": [
    "Setelah itu selesai, silahkan copy folder “pygame” dan “pygame-1.9.2.data” hasil extract tadi ya. INGATT!!! Folder ”pygame” yang di copy adalah folder hasil extract nya ya.. bukan folder yang kita buat tadi. Untuk lebih jelasnya lihat gambar di bawah ini."
   ]
  },
  {
   "cell_type": "markdown",
   "metadata": {},
   "source": [
    "<img src=\"https://3.bp.blogspot.com/-UGvVgC6jHvA/WNHn05KoOiI/AAAAAAAAATk/aecdaEYC1rQaYV64XH7aJrh6n15TvSKQQCK4B/s640/7.png\">"
   ]
  },
  {
   "cell_type": "markdown",
   "metadata": {},
   "source": [
    "Selanjutnya masuk ke dalam drive “C”,lalu masuk ke folder “pythonxx”. Setelah itu masuk ke folder “Lib”. Lalu masuk ke folder “site-packages”.silahkan paste di dalam folder “site-packages” ini. Untuk lebih jelasnya, simak gambar di bawah ini."
   ]
  },
  {
   "cell_type": "markdown",
   "metadata": {},
   "source": [
    "<img src=\"https://1.bp.blogspot.com/-ocvoj0tdquU/WNHuvtqXn3I/AAAAAAAAAT0/grrdvGSi2P4b6dIJAc-Nopzk7COCwN5BwCK4B/s640/8.png\">"
   ]
  },
  {
   "cell_type": "markdown",
   "metadata": {},
   "source": [
    "#### 6. Finsih dan pengecekan"
   ]
  },
  {
   "cell_type": "markdown",
   "metadata": {},
   "source": [
    "Untuk memastikan pygame nya sudah terinstall atau belum, sekarang buka IDLE,dan coba ketikkan “import pygame”. Dan jika tidak error berarti tandanya sudah berhasil seperti pada gambar yang ada di bawah ini."
   ]
  },
  {
   "cell_type": "markdown",
   "metadata": {},
   "source": [
    "<img src=\"https://2.bp.blogspot.com/-BjzPlLl8w0U/WNHvCDFqyRI/AAAAAAAAAUE/pznxGQ6DOLo5F7Q0PZTXpefFMnOdj9HJwCK4B/s640/9.png\">"
   ]
  },
  {
   "cell_type": "markdown",
   "metadata": {},
   "source": [
    "### Implementasi OOP"
   ]
  },
  {
   "cell_type": "markdown",
   "metadata": {},
   "source": [
    "#### Tentang Aplikasi"
   ]
  },
  {
   "cell_type": "markdown",
   "metadata": {},
   "source": [
    "Aplikasi Game ini berbasis Library Pygame, game yang bergenre arcade ini menjalankan character Dino yang harus menghindar dari beberapa rintangan seperti: batu,rumput, dan ptera. Dalam pembuatan game ini diimplemantasikan konsep OOP."
   ]
  },
  {
   "cell_type": "markdown",
   "metadata": {},
   "source": [
    "####   Diagram Class"
   ]
  },
  {
   "cell_type": "markdown",
   "metadata": {},
   "source": [
    "<img src=\"https://i.ibb.co/FgsKqT9/cl.jpg\">"
   ]
  },
  {
   "cell_type": "markdown",
   "metadata": {},
   "source": [
    "#### Global Variable"
   ]
  },
  {
   "cell_type": "markdown",
   "metadata": {},
   "source": [
    "- WINDOWWIDTH = Untuk ukuran lebar layar\n",
    "- WINDOWHEIGHT = Untuk ukuran tinggi layar\n",
    "- TEXTCOLOR = Untuk warna text\n",
    "- BACKGROUNDCOLOR = Untuk warna background\n",
    "- FPS = Untuk ukuran frame perdetik\n",
    "- BADDIEMINSIZE = Untuk ukuran gambar minimun rintangan\n",
    "- BADDIEMAXSIZE = Untuk ukuran gambar maximun rintangan\n",
    "- BADDIEMINSPEED = Untuk ukuran kecepatan minimun rintangan\n",
    "- BADDIEMAXSPEED = Untuk ukuran gambar maximun rintangan\n",
    "- ADDNEWBADDIERATE = Utuk ukuran jarak rata-rata rintangan yang akan muncul\n",
    "- PLAYERMOVERATE = Untuk ukuran kecepatan player(dino) dalam bergerak/berpindah tempat\n",
    "- count = Untuk memberi nilai pada nyawa\n",
    "- topScore= Untuk menghitung skor"
   ]
  },
  {
   "cell_type": "markdown",
   "metadata": {},
   "source": [
    "#### Class "
   ]
  },
  {
   "cell_type": "markdown",
   "metadata": {},
   "source": [
    "Class merupakan kumpulan atas definisi data dan fungsi-fungsi dalam suatu unit untuk suatu tujuan tertentu. Sebagai contoh 'class of dog' adalah suatu unit yang terdiri atas definisi-definisi data dan fungsi-fungsi yang menunjuk pada berbagai macam perilaku/turunan dari anjing. Sebuah class adalah dasar dari modularitas dan struktur dalam pemrograman berorientasi object. Sebuah class secara tipikal sebaiknya dapat dikenali oleh seorang non-programmer sekalipun terkait dengan domain permasalahan yang ada, dan kode yang terdapat dalam sebuah class sebaiknya (relatif) bersifat mandiri dan independen (sebagaimana kode tersebut digunakan jika tidak menggunakan OOP). Dengan modularitas, struktur dari sebuah program akan terkait dengan aspek-aspek dalam masalah yang akan diselesaikan melalui program tersebut. Cara seperti ini akan menyederhanakan pemetaan dari masalah ke sebuah program ataupun sebaliknya."
   ]
  },
  {
   "cell_type": "code",
   "execution_count": null,
   "metadata": {},
   "outputs": [],
   "source": [
    "class Rintangan(pygame.sprite.Sprite):\n",
    "    def __init__(self, sizex, sizey):\n",
    "        self.lebar = sizex\n",
    "        self.tinggi = sizey\n",
    "\n",
    "    def tampilkan_rintangan(self):\n",
    "        newBaddie = {'rect': pygame.Rect(random.randint(self.lebar, self.tinggi), 0, 23, 40),\n",
    "                     'speed': random.randint(BADDIEMINSPEED, BADDIEMAXSPEED),\n",
    "                     'surface': pygame.transform.scale(random.choice(sample), (23, 47)),\n",
    "                     }\n",
    "        return newBaddie\n",
    "\n",
    "class player(pygame.sprite.Sprite):\n",
    "    def __init__ (self):\n",
    "        self.playerKu = pygame.image.load('dino.png')\n",
    "        self.playerRect = self.playerKu.get_rect()\n",
    "    def pemain(self):\n",
    "        B = self.playerRect\n",
    "        return B\n",
    "    def tampilkan(self):\n",
    "        A = windowSurface.blit(self.playerKu, self.playerRect)\n",
    "        return A"
   ]
  },
  {
   "cell_type": "markdown",
   "metadata": {},
   "source": [
    "#### Object "
   ]
  },
  {
   "cell_type": "markdown",
   "metadata": {},
   "source": [
    "Objek merupakan dasar dari modularitas dan struktur dalam sebuah program komputer berorientasi objek. Objek di gunakan untuk Membungkus data dan fungsi bersama menjadi suatu unit dalam sebuah program komputer. "
   ]
  },
  {
   "cell_type": "code",
   "execution_count": null,
   "metadata": {},
   "outputs": [],
   "source": [
    "ramadhan = player()"
   ]
  },
  {
   "cell_type": "markdown",
   "metadata": {},
   "source": [
    "####  ScreenShoot program"
   ]
  },
  {
   "cell_type": "markdown",
   "metadata": {},
   "source": [
    " <img src=\"https://i.ibb.co/gz8yxZg/11.jpg\">"
   ]
  },
  {
   "cell_type": "markdown",
   "metadata": {},
   "source": [
    "<img src=\"https://i.ibb.co/d5KSjdT/22.jpg\">"
   ]
  },
  {
   "cell_type": "markdown",
   "metadata": {},
   "source": [
    "<img src=\"https://i.ibb.co/L5Vpckp/33.jpg\">"
   ]
  },
  {
   "cell_type": "markdown",
   "metadata": {},
   "source": [
    "#### Code Pygame "
   ]
  },
  {
   "cell_type": "code",
   "execution_count": null,
   "metadata": {},
   "outputs": [],
   "source": [
    "import pygame, random, sys, os, time\n",
    "from pygame.locals import *\n",
    "\n",
    "WINDOWWIDTH = 400\n",
    "WINDOWHEIGHT = 600\n",
    "TEXTCOLOR = (82,82,107)\n",
    "BACKGROUNDCOLOR = (235,235,235)\n",
    "FPS = 40\n",
    "BADDIEMINSIZE = 5\n",
    "BADDIEMAXSIZE = 35\n",
    "BADDIEMINSPEED = 8\n",
    "BADDIEMAXSPEED = 8\n",
    "ADDNEWBADDIERATE = 6\n",
    "PLAYERMOVERATE = 5\n",
    "count = 3\n",
    "topScore=0\n",
    "\n",
    "#Classnya ini.\n",
    "\n",
    "class Rintangan(pygame.sprite.Sprite):\n",
    "    def __init__(self, sizex, sizey):\n",
    "        self.lebar = sizex\n",
    "        self.tinggi = sizey\n",
    "\n",
    "    def tampilkan_rintangan(self):\n",
    "        newBaddie = {'rect': pygame.Rect(random.randint(self.lebar, self.tinggi), 0, 23, 40),\n",
    "                     'speed': random.randint(BADDIEMINSPEED, BADDIEMAXSPEED),\n",
    "                     'surface': pygame.transform.scale(random.choice(sample), (23, 47)),\n",
    "                     }\n",
    "        return newBaddie\n",
    "\n",
    "class player(pygame.sprite.Sprite):\n",
    "    def __init__ (self):\n",
    "        self.playerKu = pygame.image.load('dino.png')\n",
    "        self.playerRect = self.playerKu.get_rect()\n",
    "    def pemain(self):\n",
    "        B = self.playerRect\n",
    "        return B\n",
    "    def tampilkan(self):\n",
    "        A = windowSurface.blit(self.playerKu, self.playerRect)\n",
    "        return A\n",
    "\n",
    "ramadhan = player()\n",
    "\n",
    "\n",
    "def terminate():\n",
    "    pygame.quit()\n",
    "    sys.exit()\n",
    "\n",
    "def waitForPlayerToPressKey():\n",
    "    while True:\n",
    "        for event in pygame.event.get():\n",
    "            if event.type == QUIT:\n",
    "                terminate()\n",
    "            if event.type == KEYDOWN:\n",
    "                if event.key == K_ESCAPE:  # escape quits\n",
    "                    terminate()\n",
    "                return\n",
    "\n",
    "\n",
    "def playerHasHitBaddie(A, baddies):\n",
    "    for b in baddies:\n",
    "        if A.colliderect(b['rect']):\n",
    "            return True\n",
    "    return False\n",
    "\n",
    "def drawText(text, font, surface, x, y):\n",
    "    textobj = font.render(text, 1, TEXTCOLOR)\n",
    "    textrect = textobj.get_rect()\n",
    "    textrect.topleft = (x, y)\n",
    "    surface.blit(textobj, textrect)\n",
    "\n",
    "\n",
    "pygame.init()\n",
    "mainClock = pygame.time.Clock()\n",
    "windowSurface = pygame.display.set_mode((WINDOWWIDTH, WINDOWHEIGHT))\n",
    "pygame.display.set_caption('Dino Rush')\n",
    "pygame.mouse.set_visible(False)\n",
    "A = ramadhan.pemain()\n",
    "ptera = pygame.image.load('ptera.png')\n",
    "batu = pygame.image.load('batu.png')\n",
    "semak = pygame.image.load('semak.png')\n",
    "sample = [ptera, batu, semak]\n",
    "\n",
    "font = pygame.font.SysFont(None, 42)\n",
    "drawText('Press Any Key!', font, windowSurface, 70, (WINDOWHEIGHT / 3)+80)\n",
    "pygame.display.update()\n",
    "waitForPlayerToPressKey()\n",
    "zero = 0\n",
    "\n",
    "while (count > 0):\n",
    "    baddies = []\n",
    "    score = 0\n",
    "    ramadhan.pemain().topleft = (WINDOWWIDTH / 2, WINDOWHEIGHT - 50)\n",
    "    moveLeft = moveRight = moveUp = moveDown = False\n",
    "    reverseCheat = slowCheat = False\n",
    "    baddieAddCounter = 0\n",
    "\n",
    "    while True:\n",
    "        score += 1\n",
    "\n",
    "        for event in pygame.event.get():\n",
    "\n",
    "            if event.type == QUIT:\n",
    "                terminate()\n",
    "            if event.type == KEYDOWN:\n",
    "                if event.key == ord('z'):\n",
    "                    reverseCheat = True\n",
    "                if event.key == ord('x'):\n",
    "                    slowCheat = True\n",
    "                if event.key == K_LEFT:\n",
    "                    moveRight = False\n",
    "                    moveLeft = True\n",
    "                if event.key == K_RIGHT:\n",
    "                    moveLeft = False\n",
    "                    moveRight = True\n",
    "                if event.key == K_UP:\n",
    "                    moveDown = False\n",
    "                    moveUp = True\n",
    "                if event.key == K_DOWN:\n",
    "                    moveUp = False\n",
    "                    moveDown = True\n",
    "\n",
    "            if event.type == KEYUP:\n",
    "                if event.key == ord('z'):\n",
    "                    reverseCheat = False\n",
    "                    score = 0\n",
    "                if event.key == ord('x'):\n",
    "                    slowCheat = False\n",
    "                    score = 0\n",
    "                if event.key == K_ESCAPE:\n",
    "                    terminate()\n",
    "\n",
    "                if event.key == K_LEFT or event.key == ord('a'):\n",
    "                    moveLeft = False\n",
    "                if event.key == K_RIGHT or event.key == ord('d'):\n",
    "                    moveRight = False\n",
    "                if event.key == K_UP or event.key == ord('w'):\n",
    "                    moveUp = False\n",
    "                if event.key == K_DOWN or event.key == ord('s'):\n",
    "                    moveDown = False\n",
    "\n",
    "        if not reverseCheat and not slowCheat:\n",
    "            baddieAddCounter += 1\n",
    "        if baddieAddCounter == ADDNEWBADDIERATE:\n",
    "            baddieAddCounter = 0\n",
    "            baddieSize = 30\n",
    "            a = Rintangan(0, 485)\n",
    "            baddies.append(a.tampilkan_rintangan())\n",
    "\n",
    "        if moveLeft and ramadhan.pemain().left > 0:\n",
    "            ramadhan.pemain().move_ip(-1 * PLAYERMOVERATE, 0)\n",
    "        if moveRight and ramadhan.pemain().right < WINDOWWIDTH:\n",
    "            ramadhan.pemain().move_ip(PLAYERMOVERATE, 0)\n",
    "        if moveUp and ramadhan.pemain().top > 0:\n",
    "            ramadhan.pemain().move_ip(0, -1 * PLAYERMOVERATE)\n",
    "        if moveDown and ramadhan.pemain().bottom < WINDOWHEIGHT:\n",
    "            ramadhan.pemain().move_ip(0, PLAYERMOVERATE)\n",
    "\n",
    "        for b in baddies:\n",
    "            if not reverseCheat and not slowCheat:\n",
    "                b['rect'].move_ip(0, b['speed'])\n",
    "            elif reverseCheat:\n",
    "                b['rect'].move_ip(0, -5)\n",
    "            elif slowCheat:\n",
    "                b['rect'].move_ip(0, 1)\n",
    "\n",
    "        for b in baddies[:]:\n",
    "            if b['rect'].top > WINDOWHEIGHT:\n",
    "                baddies.remove(b)\n",
    "\n",
    "        font = pygame.font.SysFont(None, 17)\n",
    "        windowSurface.fill(BACKGROUNDCOLOR)\n",
    "        drawText('Score: %s' % (score), font, windowSurface,0, 0)\n",
    "        drawText('Top Score: %s' % (topScore), font, windowSurface, 0, 21)\n",
    "        drawText('Rest Life: %s' % (count), font, windowSurface, 0, 41)\n",
    "\n",
    "        ramadhan.tampilkan()\n",
    "\n",
    "        for b in baddies:\n",
    "            windowSurface.blit(b['surface'], b['rect'])\n",
    "\n",
    "        pygame.display.update()\n",
    "\n",
    "        if playerHasHitBaddie(ramadhan.pemain() , baddies):\n",
    "            if score > topScore:\n",
    "                topScore = score\n",
    "            break\n",
    "\n",
    "        mainClock.tick(FPS)\n",
    "\n",
    "    count = count - 1\n",
    "    time.sleep(1)\n",
    "    font = pygame.font.SysFont(None, 52)\n",
    "    if (count == 0):\n",
    "\n",
    "        drawText('Game Over', font, windowSurface, (WINDOWWIDTH / 4)+35, (WINDOWHEIGHT / 3)+70)\n",
    "        pygame.display.update()\n",
    "        time.sleep(2)\n",
    "        waitForPlayerToPressKey()\n",
    "        count = 3"
   ]
  },
  {
   "cell_type": "markdown",
   "metadata": {},
   "source": [
    "### Dokumentasi Kivy"
   ]
  },
  {
   "cell_type": "markdown",
   "metadata": {},
   "source": [
    "Kivy adalah framework Python untuk membangun aplikasi berbasis NUI dengan ringkas, cepat dan mudah. Berbasis lisensi MIT, framework yang satu ini bisa jalan hampir disemua platform seperti Windows, Linux, iOS, Android dan Raspberry. <br>\n",
    "#### Cara Meginstal Kivy\n",
    "1.\tMenginstal python versi terbaru di website resminya www.python.org dan pastikan komputer terkoneksi dengan internet. <br>\n",
    "2.\t Pada jendela window buka cmd atau bisa dengan menekan keyword window + r.<br>\n",
    "3.\tPada tampilan cmd silahkan masukkan perintah dibawah ini lalu tekan enter.<br>\n",
    "python -m pip install --upgrade pip wheel setuptools<br>\n",
    "<img src=\"https://steemitimages.com/DQmPUGNDSRKXsyV9ycCptXe9PC4LRgHToNGkFw211EFrq4E/1.JPG\" alt=\"ilustrasi Sub and Parent Class\" style=\"max-height: 70%; max-width: 70%;\"><br>\n",
    "4.\tSetelah itu, masukkan perintah dibawah ini.<br>\n",
    "python -m pip install docutils pygments pypiwin32 kivy.deps.sdl2 kivy.deps.glew<br>\n",
    "<img src=\"https://steemitimages.com/DQmVyS68F1YPNx6QR5NQpgd652aJLjmujzHwUyFh4r69PYk/2.JPG\" alt=\"ilustrasi Sub and Parent Class\" style=\"max-height: 70%; max-width: 70%;\">\n",
    "<br>\n",
    "5.\tSelanjutnya masukkan perintah dibawah ini.<br>\n",
    "python -m pip install kivy.deps.gstreamer --extra-index-url https://kivy.org/downloads/packages/simple/<br>\n",
    "<img src=\"https://steemitimages.com/DQmeZ3d1CEP2pjRhmJiGb4ft2LMaEwfHBq6vEi9W52Z1G6Q/3.JPG\" alt=\"ilustrasi Sub and Parent Class\" style=\"max-height: 70%; max-width: 70%;\"><br>\n",
    "6.\tKemudian, masukkan perintah dibawah ini.<br>\n",
    "python -m pip install kivy<br>\n",
    "<img src=\"https://steemitimages.com/p/FxX5caie56yqUbvo2DTJv1i6qm8z4ixTabBTrjodAsZKKDzV2ZXRPAPxK48GDM54rrrdc1EB4zdLxkv2oYsSt5afsWpCGrgtxmp3N5MZVGWz?format=match&mode=fit&width=640\" alt=\"ilustrasi Sub and Parent Class\" style=\"max-height: 70%; max-width: 70%;\"><br>\n",
    "7.\tUntuk mengecek apakah kivy telah berhasil diinstal. Ketik python di cmd.<br>\n",
    "8.\tKemudian, ketik import kivy lalu enter.<br>\n",
    "9.\tApabila kivy berhasil diinstal maka tampilannya seperti ini.<br>\n",
    "<img src=\"https://steemitimages.com/p/FxX5caie56yqUbvo2DTJv1i6qm8z4ixTabBTrjod7yC3JeyJMjfyELR2vKu9HddhxAirnFX1q969SxuqRhCZFbMnnbKskDxA4zc8URVSFwTC?format=match&mode=fit&width=640\" alt=\"ilustrasi Sub and Parent Class\" style=\"max-height: 70%; max-width: 70%;\"><br>\n",
    "Apabila tampilannya seperti dibawah ini maka anda harus melakukan proses dari awal. <br>\n",
    "<img src=\"https://steemitimages.com/DQmbpDqpzcvVvqPkWEC6gj5hwfJwP9FAVVGTaSZkiPzswUx/7.JPG\" alt=\"ilustrasi Sub and Parent Class\" style=\"max-height: 70%; max-width: 70%;\">\n",
    "<br>"
   ]
  },
  {
   "cell_type": "markdown",
   "metadata": {},
   "source": [
    "#### Tampilan Awal\n",
    "<img src=\"https://i.imgur.com/8F4U2OH.png\" alt=\"ilustrasi Sub and Parent Class\" style=\"max-height: 70%; max-width: 70%;\">\n",
    "<br>\n",
    "Tampilan awal seperti di atas. Kami akan memberikan tambahan yaitu jendela pop up yang akan muncul apabila user memasukkan email atau password yang salah.\n",
    "<img src=\"http://i63.tinypic.com/2q1h3jq.jpg\" alt=\"ilustrasi Sub and Parent Class\" style=\"max-height: 70%; max-width: 70%;\">\n",
    "<br>\n",
    "Gambar diatas ialah class yang digunakan di dalam script ini. "
   ]
  },
  {
   "cell_type": "markdown",
   "metadata": {},
   "source": [
    "#### main.py"
   ]
  },
  {
   "cell_type": "code",
   "execution_count": null,
   "metadata": {},
   "outputs": [],
   "source": [
    "import kivy\n",
    "from kivy.app import App\n",
    "from kivy.uix.popup import Popup\n",
    "from kivy.lang import Builder\n",
    "from kivy.uix.screenmanager import ScreenManager, Screen\n",
    "from kivy.uix.widget import Widget\n",
    "from kivy.uix.floatlayout import FloatLayout\n",
    "\n",
    "\n",
    "class MainWindow(Screen,Widget):\n",
    "    def cek(self):\n",
    "        username = self.ids.username\n",
    "        username_text = username.text\n",
    "\n",
    "        password = self.ids.passw\n",
    "        password_text = str(password.text)\n",
    "        if username_text == \"admin\" and password_text == \"123\":\n",
    "            self.parent.current = 'second'\n",
    "        else:\n",
    "            show_popup()\n",
    "\n",
    "class SecondWindow(Screen):\n",
    "    pass\n",
    "\n",
    "class WindowManager(ScreenManager):\n",
    "    pass\n",
    "\n",
    "class WindowPop(FloatLayout):\n",
    "    pass\n",
    "\n",
    "def show_popup():\n",
    "    show = WindowPop()\n",
    "    popupWindow = Popup(title = \"Popup Window\", content=show, size_hint=(None,None), size=(400,400))\n",
    "    popupWindow.open()\n",
    "\n",
    "kv = Builder.load_file(\"style.kv\")\n",
    "\n",
    "class MyMainApp(App):\n",
    "    def build(self):\n",
    "        return kv\n",
    "\n",
    "if __name__ == \"__main__\":\n",
    "    MyMainApp().run()"
   ]
  },
  {
   "cell_type": "markdown",
   "metadata": {},
   "source": [
    "#### style.kv"
   ]
  },
  {
   "cell_type": "code",
   "execution_count": null,
   "metadata": {},
   "outputs": [],
   "source": [
    "#:import C kivy.utils.get_color_from_hex\n",
    "WindowManager:\n",
    "    MainWindow:\n",
    "    SecondWindow:\n",
    "\n",
    "<MainWindow>:\n",
    "    name: \"main\"\n",
    "    canvas:\n",
    "        Color:\n",
    "            rgba: C('#3f92db')\n",
    "        Rectangle:\n",
    "            pos: self.pos\n",
    "            size: self.size\n",
    "    FloatLayout:\n",
    "        Label:\n",
    "            text: \"Login\"\n",
    "            size_hint: 0.8, 0.2\n",
    "            pos_hint: {\"x\":0.1, \"top\":1}\n",
    "            font_size: (root.width**2 + root.height**2) / 13**4\n",
    "\n",
    "        Label:\n",
    "            text:\"Email: \"\n",
    "            font_size: (root.width**2 + root.height**2) / 13**4\n",
    "            pos_hint: {\"x\":0.06, \"top\":0.7}\n",
    "            size_hint: 0.35, 0.1\n",
    "\n",
    "\n",
    "        TextInput:\n",
    "            id: username\n",
    "            font_size: (root.width**2 + root.height**2) / 13**4\n",
    "            multiline: False\n",
    "            pos_hint: {\"x\": 0.45 , \"top\":0.7}\n",
    "            size_hint: 0.4, 0.1\n",
    "\n",
    "        Label:\n",
    "            text:\"Password: \"\n",
    "            font_size: (root.width**2 + root.height**2) / 13**4\n",
    "            pos_hint: {\"x\":0.1, \"top\":0.5}\n",
    "            size_hint: 0.35, 0.1\n",
    "\n",
    "        TextInput:\n",
    "            id: passw\n",
    "            font_size: (root.width**2 + root.height**2) / 13**4\n",
    "            multiline: False\n",
    "            password: True\n",
    "            pos_hint: {\"x\": 0.45, \"top\":0.5}\n",
    "            size_hint: 0.4, 0.1\n",
    "\n",
    "        Button:\n",
    "            pos_hint:{\"x\":0.2,\"y\":0.05}\n",
    "            size_hint: 0.6, 0.2\n",
    "            font_size: (root.width**2 + root.height**2) / 13**4\n",
    "            text: \"Login\"\n",
    "            on_release:\n",
    "                root.cek()\n",
    "                root.manager.transition.direction = \"left\"\n",
    "\n",
    "\n",
    "<WindowPop>:\n",
    "    Label:\n",
    "        text: \"Email atau Password yang anda masukan salah.\"\n",
    "        size_hint: 0.6, 0.2\n",
    "        pos_hint:{\"x\": 0.2, \"top\": 1}\n",
    "\n",
    "    Button:\n",
    "        text: \"Back\"\n",
    "        size_hint: 0.8, 0.2\n",
    "        pos_hint:{\"x\": 0.1, \"y\": 0.1}\n",
    "        on_release: app.root.current = \"main\"\n",
    "\n",
    "<SecondWindow>:\n",
    "    name: \"second\"\n",
    "    Button:\n",
    "        text: \"Succes Login\"\n",
    "        on_release:\n",
    "            app.root.current = \"main\"\n",
    "            root.manager.transition.direction = \"right\""
   ]
  },
  {
   "cell_type": "markdown",
   "metadata": {},
   "source": [
    "Untuk dapat menggunakan pustaka kivy. File main.py harus mengimportkan pustaka kivy di dalamnya dengan cara mengetikkan import kivy diawal baris code. Kita  dapat menggunakan beberapa pustaka kivy yaitu: <br><br>\n",
    "1.\tfrom kivy.app import App<br><br>\n",
    "2.\tfrom kivy.uix.popup import Popup<br><br>\n",
    "3.\tfrom kivy.lang import Builder<br><br>\n",
    "4.\tfrom kivy.uix.widget import Widget<br><br>\n",
    "5.\tfrom kivy.uix.floatlayout import FloatLayout<br><br>"
   ]
  },
  {
   "cell_type": "markdown",
   "metadata": {},
   "source": [
    "#### Implementasi OOP"
   ]
  },
  {
   "cell_type": "markdown",
   "metadata": {},
   "source": [
    "Inheritance <br><br>\n",
    "Default<br><br>\n",
    "    Seluruh class menggunakan default yang berarti menggunakan seluruh apa yang ada di class induk dan tidak ada perubahan.\n",
    "Class yang menggunakan Default ialah MainWindow, SecondWindow, WindowManager, WindowPop, dan MyMainApp.\n"
   ]
  },
  {
   "cell_type": "markdown",
   "metadata": {},
   "source": [
    "#### Class Main Window"
   ]
  },
  {
   "cell_type": "code",
   "execution_count": null,
   "metadata": {},
   "outputs": [],
   "source": [
    "class MainWindow(Screen,Widget):\n",
    "    def cek(self):\n",
    "        username = self.ids.username\n",
    "        username_text = username.text\n",
    "\n",
    "        password = self.ids.passw\n",
    "        password_text = str(password.text)\n",
    "        if username_text == \"admin\" and password_text == \"123\":\n",
    "            self.parent.current = 'second'\n",
    "        else:\n",
    "            show_popup()"
   ]
  },
  {
   "cell_type": "markdown",
   "metadata": {},
   "source": [
    "Class MainWindow berinheritance dengan class Screen dan Widget. Class Main Window menggunakan fungsi – fungsi widget yang berasal dari class induk yaitu self.ids, input.text, dan self.parent.current yang berasal dari class Widget. Sedangkan Class Screen berfungsi agar content di dalam class MainWindow dapat ditampilkan berupa window atau screen. Apabila user memasukkan email dan password dengan benar maka user akan diarahkan ke SecondWindow. Apabila user memasukkan email atau password dengan salah maka sebuah pop up window akan muncul yang berisi sebuah pesan."
   ]
  },
  {
   "cell_type": "markdown",
   "metadata": {},
   "source": [
    "#### style.kv Class MainWindow"
   ]
  },
  {
   "cell_type": "code",
   "execution_count": null,
   "metadata": {},
   "outputs": [],
   "source": [
    "<MainWindow>:\n",
    "    name: \"main\"\n",
    "    canvas:\n",
    "        Color:\n",
    "            rgba: C('#3f92db')\n",
    "        Rectangle:\n",
    "            pos: self.pos\n",
    "            size: self.size\n",
    "    FloatLayout:\n",
    "        Label:\n",
    "            text: \"Login\"\n",
    "            size_hint: 0.8, 0.2\n",
    "            pos_hint: {\"x\":0.1, \"top\":1}\n",
    "            font_size: (root.width**2 + root.height**2) / 13**4\n",
    "\n",
    "        Label:\n",
    "            text:\"Email: \"\n",
    "            font_size: (root.width**2 + root.height**2) / 13**4\n",
    "            pos_hint: {\"x\":0.06, \"top\":0.7}\n",
    "            size_hint: 0.35, 0.1\n",
    "\n",
    "\n",
    "        TextInput:\n",
    "            id: username\n",
    "            font_size: (root.width**2 + root.height**2) / 13**4\n",
    "            multiline: False\n",
    "            pos_hint: {\"x\": 0.45 , \"top\":0.7}\n",
    "            size_hint: 0.4, 0.1\n",
    "\n",
    "        Label:\n",
    "            text:\"Password: \"\n",
    "            font_size: (root.width**2 + root.height**2) / 13**4\n",
    "            pos_hint: {\"x\":0.1, \"top\":0.5}\n",
    "            size_hint: 0.35, 0.1\n",
    "\n",
    "        TextInput:\n",
    "            id: passw\n",
    "            font_size: (root.width**2 + root.height**2) / 13**4\n",
    "            multiline: False\n",
    "            password: True\n",
    "            pos_hint: {\"x\": 0.45, \"top\":0.5}\n",
    "            size_hint: 0.4, 0.1\n",
    "\n",
    "        Button:\n",
    "            pos_hint:{\"x\":0.2,\"y\":0.05}\n",
    "            size_hint: 0.6, 0.2\n",
    "            font_size: (root.width**2 + root.height**2) / 13**4\n",
    "            text: \"Login\"\n",
    "            on_release:\n",
    "                root.cek()\n",
    "                root.manager.transition.direction = \"left\""
   ]
  },
  {
   "cell_type": "markdown",
   "metadata": {},
   "source": [
    "Untuk mengatur tampilan dan isi content di dalam Class MainWindow code tersebut dipisahkan ke style.kv. Di dalam style ini Class MainWindow diisi dengan 2 form input, 2 label text, dan 1 tombol button. <br><br>\n",
    "\tTampilan MainWindow.\n"
   ]
  },
  {
   "cell_type": "markdown",
   "metadata": {},
   "source": [
    "<img src=\"https://i.imgur.com/HC8XPj3.png\" style=\"max-height: 70%; max-width: 70%;\">"
   ]
  },
  {
   "cell_type": "markdown",
   "metadata": {},
   "source": [
    "#### Class SecondMain"
   ]
  },
  {
   "cell_type": "code",
   "execution_count": null,
   "metadata": {},
   "outputs": [],
   "source": [
    "class SecondWindow(Screen):\n",
    "    pass"
   ]
  },
  {
   "cell_type": "markdown",
   "metadata": {},
   "source": [
    "#### Style SecondMain"
   ]
  },
  {
   "cell_type": "code",
   "execution_count": null,
   "metadata": {},
   "outputs": [],
   "source": [
    "<SecondWindow>:\n",
    "    name: \"second\"\n",
    "    Button:\n",
    "        text: \"Succes Login\"\n",
    "        on_release:\n",
    "            app.root.current = \"main\"\n",
    "            root.manager.transition.direction = \"right\""
   ]
  },
  {
   "cell_type": "markdown",
   "metadata": {},
   "source": [
    "Class SecondMain berinheritance dengan class Screen. Class SecondMain akan ditampilkan berupa window atau screen. Screen SecondMain akan muncul ketika user memasukkan email dan password dengan benar. Didalam SecondMain hanya ada sebuah tombol button yang diperbesar mengikuti luas software. User tidak memiliki pilihan lain selain mengklik tombol tersebut. Kemudian user akan diarahkan ke Screen MainWindow. <br><br>\n",
    "\n",
    "<img src=\"https://i.imgur.com/eg9cgEC.png\" style=\"max-height: 70%; max-width: 70%;\">\n"
   ]
  },
  {
   "cell_type": "markdown",
   "metadata": {},
   "source": [
    "#### Class MainManager"
   ]
  },
  {
   "cell_type": "code",
   "execution_count": null,
   "metadata": {},
   "outputs": [],
   "source": [
    "class WindowManager(ScreenManager):\n",
    "    pass"
   ]
  },
  {
   "cell_type": "markdown",
   "metadata": {},
   "source": [
    "#### Style MainManager"
   ]
  },
  {
   "cell_type": "code",
   "execution_count": null,
   "metadata": {},
   "outputs": [],
   "source": [
    "#:import C kivy.utils.get_color_from_hex\n",
    "WindowManager:\n",
    "    MainWindow:\n",
    "    SecondWindow:"
   ]
  },
  {
   "cell_type": "markdown",
   "metadata": {},
   "source": [
    "Class WindowManager berinheritance dengan class ScreenManager. Class ini bertujuan untuk menghubungkan WindowMain dan Second Main agar dapat digunakan kedua - duanya."
   ]
  },
  {
   "cell_type": "markdown",
   "metadata": {},
   "source": [
    "#### Class WindowPop dan Function show_popup"
   ]
  },
  {
   "cell_type": "code",
   "execution_count": null,
   "metadata": {},
   "outputs": [],
   "source": [
    "class WindowPop(FloatLayout):\n",
    "    pass\n",
    "\n",
    "def show_popup():\n",
    "    show = WindowPop ()\n",
    "    popupWindow = Popup(title = \"Popup Window\", content=show, size_hint=(None,None), size=(400,400))\n",
    "    popupWindow.open()"
   ]
  },
  {
   "cell_type": "markdown",
   "metadata": {},
   "source": [
    "#### Style WindowPop"
   ]
  },
  {
   "cell_type": "code",
   "execution_count": null,
   "metadata": {},
   "outputs": [],
   "source": [
    "<WindowPop>:\n",
    "    Label:\n",
    "        text: \"Email atau Password yang anda masukan salah.\"\n",
    "        size_hint: 0.6, 0.2\n",
    "        pos_hint:{\"x\": 0.2, \"top\": 1}\n",
    "\n",
    "    Button:\n",
    "        text: \"Back\"\n",
    "        size_hint: 0.8, 0.2\n",
    "        pos_hint:{\"x\": 0.1, \"y\": 0.1}\n",
    "        on_release: app.root.current = \"main\""
   ]
  },
  {
   "cell_type": "markdown",
   "metadata": {},
   "source": [
    "Class WindowPop berinheritance dengan class FloatLayout. Class ini berfungsi sebagai content yang akan digunakan di dalam tampilkan di pop up window. <br><br>\n",
    "Function show_popup akan menampilkan sebuah pop up window yang contentnya diambil dari class WindowPop. <br><br>\n",
    "<img src=\"https://i.imgur.com/4ThECNX.png\" style=\"max-height: 70%; max-width: 70%;\">"
   ]
  },
  {
   "cell_type": "markdown",
   "metadata": {},
   "source": [
    "#### Class MyMainApp"
   ]
  },
  {
   "cell_type": "code",
   "execution_count": null,
   "metadata": {},
   "outputs": [],
   "source": [
    "kv = Builder.load_file(\"style.kv\")\n",
    "\n",
    "class MyMainApp(App):\n",
    "    def build(self):\n",
    "        return kv"
   ]
  },
  {
   "cell_type": "markdown",
   "metadata": {},
   "source": [
    "Class MyMainApp berinheritance dengan class App dan memiliki fungsi build yang diperoleh dari class App. Class ini bertujuan untuk menampilkan seluruh class dan design yang terdapat di style.kv."
   ]
  }
 ],
 "metadata": {
  "kernelspec": {
   "display_name": "Python 3",
   "language": "python",
   "name": "python3"
  },
  "language_info": {
   "codemirror_mode": {
    "name": "ipython",
    "version": 3
   },
   "file_extension": ".py",
   "mimetype": "text/x-python",
   "name": "python",
   "nbconvert_exporter": "python",
   "pygments_lexer": "ipython3",
   "version": "3.7.1"
  }
 },
 "nbformat": 4,
 "nbformat_minor": 2
}
